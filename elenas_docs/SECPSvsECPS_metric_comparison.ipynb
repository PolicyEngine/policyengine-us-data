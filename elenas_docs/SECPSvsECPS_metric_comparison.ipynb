{
 "cells": [
  {
   "cell_type": "markdown",
   "id": "3d0a01ed",
   "metadata": {},
   "source": [
    "## Import Sparce ECPS vs full ECPS."
   ]
  },
  {
   "cell_type": "code",
   "execution_count": 37,
   "id": "32a8bca8",
   "metadata": {},
   "outputs": [],
   "source": [
    "import h5py\n",
    "import numpy as np\n",
    "import pandas as pd\n",
    "from policyengine_us import Microsimulation\n",
    "from policyengine_us_data.storage import STORAGE_FOLDER\n",
    "from policyengine_core.data.dataset import Dataset\n",
    "\n",
    "sparse_filename= \"sparse_enhanced_cps_2024.h5\"\n",
    "full_filename = \"enhanced_cps_2024.h5\""
   ]
  },
  {
   "cell_type": "code",
   "execution_count": 55,
   "id": "adb5d810",
   "metadata": {},
   "outputs": [
    {
     "name": "stdout",
     "output_type": "stream",
     "text": [
      "\n",
      "Variables in sparse dataset:\n",
      "  - wv_social_security_benefits_subtraction_eligible\n",
      "  - wv_social_security_benefits_subtraction_person\n",
      "  - wv_subtractions\n",
      "  - wv_taxable_income\n",
      "  - wv_taxable_property_value\n",
      "  - wv_withheld_income_tax\n",
      "  - year_deceased\n",
      "  - year_of_retirement\n",
      "  - years_in_military\n",
      "  - zip_code\n",
      "\n",
      "Unique households: 5,100\n",
      "Weight range: 3.03 - 1129660.25\n",
      "Total weighted population: 143,483,712\n",
      "\n",
      "State distribution:\n",
      "  Min households in a state: 35\n",
      "  Median households per state: 99\n",
      "  Max households in a state: 191\n",
      "  States with <50 households: 3\n",
      "  Coefficient of variation: 0.361\n",
      "Income distribution (Gini): 0.7756\n",
      "\n",
      "Variables in sparse dataset:\n",
      "  - traditional_ira_contributions\n",
      "  - unadjusted_basis_qualified_property\n",
      "  - unemployment_compensation\n",
      "  - unrecaptured_section_1250_gain\n",
      "  - unreimbursed_business_employee_expenses\n",
      "  - unreported_payroll_tax\n",
      "  - veterans_benefits\n",
      "  - w2_wages_from_qualified_business\n",
      "  - weekly_hours_worked\n",
      "  - workers_compensation\n",
      "\n",
      "Unique households: 41,310\n",
      "Weight range: 0.36 - 708130.50\n",
      "Total weighted population: 149,890,112\n",
      "\n",
      "State distribution:\n",
      "  Min households in a state: 104\n",
      "  Median households per state: 574\n",
      "  Max households in a state: 4300\n",
      "  States with <50 households: 0\n",
      "  Coefficient of variation: 1.024\n",
      "Income distribution (Gini): 0.7672\n"
     ]
    }
   ],
   "source": [
    "# If you need to directly access the h5 file:\n",
    "def inspect_dataset(file_name):\n",
    "    with h5py.File(STORAGE_FOLDER / file_name, \"r\") as f:\n",
    "        print(\"\\nVariables in sparse dataset:\")\n",
    "        for variable in list(f.keys())[-10:]:  # Show last 10\n",
    "            print(f\"  - {variable}\")\n",
    "        \n",
    "        # Check household count\n",
    "        household_ids = f[\"household_id\"][\"2024\"][:]\n",
    "        unique_households = len(np.unique(household_ids))\n",
    "        print(f\"\\nUnique households: {unique_households:,}\")\n",
    "        \n",
    "        # Check weights\n",
    "        weights = f[\"household_weight\"][\"2024\"][:]\n",
    "        print(f\"Weight range: {weights.min():.2f} - {weights.max():.2f}\")\n",
    "        print(f\"Total weighted population: {weights.sum():,.0f}\")\n",
    "\n",
    "\n",
    "        # Better state distribution metrics\n",
    "        statefip = f[\"state_fips\"][\"2024\"][:]\n",
    "        df = pd.DataFrame({\"household_id\": household_ids, \"state_fips\": statefip})\n",
    "        households_by_state = df.drop_duplicates(\"household_id\")[\"state_fips\"].value_counts()\n",
    "        \n",
    "        # Key metrics\n",
    "        print(f\"\\nState distribution:\")\n",
    "        print(f\"  Min households in a state: {households_by_state.min()}\")\n",
    "        print(f\"  Median households per state: {households_by_state.median():.0f}\")\n",
    "        print(f\"  Max households in a state: {households_by_state.max()}\")\n",
    "        print(f\"  States with <50 households: {(households_by_state < 50).sum()}\")\n",
    "        print(f\"  Coefficient of variation: {households_by_state.std() / households_by_state.mean():.3f}\")\n",
    "        \n",
    "        # Income distribution (Gini)\n",
    "        incomes = f[\"net_worth\"][\"2024\"][:]\n",
    "        weights = f[\"household_weight\"][\"2024\"][:]\n",
    "        # Gini calculation\n",
    "        def weighted_gini(x, w):\n",
    "            # Sort by x\n",
    "            sorted_idx = np.argsort(x)\n",
    "            x = x[sorted_idx]\n",
    "            w = w[sorted_idx]\n",
    "            cumw = np.cumsum(w)\n",
    "            cumxw = np.cumsum(x * w)\n",
    "            gini = 1 - 2 * np.sum((cumxw - x * w / 2) * w) / (cumxw[-1] * cumw[-1])\n",
    "            return gini\n",
    "        gini = weighted_gini(incomes, weights)\n",
    "        print(f\"Income distribution (Gini): {gini:.4f}\")\n",
    "\n",
    "\n",
    "inspect_dataset(sparse_filename)\n",
    "inspect_dataset(full_filename)"
   ]
  },
  {
   "cell_type": "markdown",
   "id": "7138dad1",
   "metadata": {},
   "source": [
    "### Interesting observations!\n",
    "\n",
    "\n",
    "| Metric | Full ECPS | Sparse ECPS | Notes |\n",
    "|--------|-----------|-------------|-------|\n",
    "| **Dataset Characteristics** |\n",
    "| Number of households | 41,310 | 5,100 | |\n",
    "| **Population Coverage** |\n",
    "| Total weighted population | 149,890,112 | 143,483,712 | Just 4.3% difference! |\n",
    "| Range in HH weights | (0.36, 708130.50) | (3.03, 1129660.25) | A reminder that the Sparse ECPS goes through reweighting, substantially increasing the HH weight of some HHs.|\n",
    "| Net Worth inequality measure (Gini) | 0.7672 | 0.7756 | |\n",
    "| **State Distribution** |\n",
    "| Range of households in a state | (104, 4300) | (35, 191) | |\n",
    "| Median households per state | 574 | 99 | |\n",
    "| States with <50 households | 0 | 3 | |\n",
    "| Coefficient of variation (SD/Mean) | 1.024 | 0.361 | |\n",
    "| **Benefits** |\n",
    "| Households on SNAP | | | |\n",
    "| Households on Medicaid | | | |\n",
    "\n",
    "\n",
    "Miscellanious notes:\n",
    "- I weirdly noticed that the variables/columns seem to differ between the datasets?\n",
    "  - I wonder why the full ECPS doesn't contain the variable zip_code?\n",
    "- I want to see how the reweighting happens, as the max HH weight is much greater in the sparse dataset than in the full one. "
   ]
  },
  {
   "cell_type": "markdown",
   "id": "0fbcbc0b",
   "metadata": {},
   "source": [
    "## Investigation of dataframe cell:"
   ]
  },
  {
   "cell_type": "markdown",
   "id": "e113a1d7",
   "metadata": {},
   "source": []
  },
  {
   "cell_type": "code",
   "execution_count": 59,
   "id": "5648ebd1",
   "metadata": {},
   "outputs": [
    {
     "name": "stdout",
     "output_type": "stream",
     "text": [
      "Income variables found:\n",
      "  - detailed_occupation_recode\n"
     ]
    }
   ],
   "source": [
    "full_filename = \"enhanced_cps_2024.h5\"\n",
    "sparse_filename = \"sparse_enhanced_cps_2024.h5\"\n",
    "\n",
    "with h5py.File(STORAGE_FOLDER / full_filename, \"r\") as f:\n",
    "    # Get all variable names\n",
    "    all_variables = list(f.keys())\n",
    "    \n",
    "    income_vars = [var for var in f.keys() if 'code' in var.lower()]\n",
    "    print(\"Income variables found:\")\n",
    "    for var in income_vars:\n",
    "        print(f\"  - {var}\")"
   ]
  },
  {
   "cell_type": "markdown",
   "id": "d7db9085",
   "metadata": {},
   "source": [
    "## Saving methods for the future, so I can debug the latest one first."
   ]
  },
  {
   "cell_type": "code",
   "execution_count": null,
   "id": "110f9b5b",
   "metadata": {},
   "outputs": [],
   "source": []
  },
  {
   "cell_type": "markdown",
   "id": "948c4aef",
   "metadata": {},
   "source": []
  }
 ],
 "metadata": {
  "kernelspec": {
   "display_name": "policyengine-us-data (3.11.13)",
   "language": "python",
   "name": "python3"
  },
  "language_info": {
   "codemirror_mode": {
    "name": "ipython",
    "version": 3
   },
   "file_extension": ".py",
   "mimetype": "text/x-python",
   "name": "python",
   "nbconvert_exporter": "python",
   "pygments_lexer": "ipython3",
   "version": "3.11.13"
  }
 },
 "nbformat": 4,
 "nbformat_minor": 5
}
