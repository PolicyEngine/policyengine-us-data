{
 "cells": [
  {
   "cell_type": "code",
   "execution_count": 5,
   "id": "d6dc9cca",
   "metadata": {},
   "outputs": [],
   "source": [
    "from policyengine_us_data.utils.minimise import minimise_dataset, random_sampling_minimization, candidate_loss_contribution\n",
    "from policyengine_us_data.storage import STORAGE_FOLDER\n",
    "from policyengine_us import Microsimulation\n",
    "from policyengine_us_data.datasets.cps.enhanced_cps import reweight, ExtendedCPS_2024\n",
    "from policyengine_us_data.utils import build_loss_matrix\n",
    "import numpy as np"
   ]
  },
  {
   "cell_type": "code",
   "execution_count": null,
   "id": "db975ac1",
   "metadata": {},
   "outputs": [],
   "source": [
    "## For approaches external to the reweighting approach implemented in enhanced CPS dataset creation\n",
    "\n",
    "files = [\n",
    "        STORAGE_FOLDER / \"enhanced_cps_2024.h5\",\n",
    "    ]\n",
    "\n",
    "approach = \"random_sampling_minimization\" # for which you can specify the fraction\n",
    "minimization_function = random_sampling_minimization\n",
    "# other minimization function approach is \"candidate_loss_contribution\"\n",
    "\n",
    "for file in files:\n",
    "    output_path = STORAGE_FOLDER / approach / \"enhanced_cps_2024_minimised.h5\"\n",
    "    minimise_dataset(\n",
    "        file,\n",
    "        output_path,\n",
    "        loss_rel_change_max=10,\n",
    "        minimization_function=minimization_function, \n",
    "        target_fractions=[0.5] # remove if switching approach\n",
    "    )"
   ]
  },
  {
   "cell_type": "code",
   "execution_count": null,
   "id": "35892c9d",
   "metadata": {},
   "outputs": [],
   "source": [
    "## For L1 and L0 penalty approaches which are integrated into the enhanced CPS dataset creation\n",
    "\n",
    "input_dataset = ExtendedCPS_2024\n",
    "\n",
    "approach = \"l0_sigmoid\"\n",
    "# other options are \"l0_log\", \"l0_exp\", \"l1\"\n",
    "\n",
    "sim = Microsimulation(dataset=input_dataset)\n",
    "data = sim.dataset.load_dataset()\n",
    "data[\"household_weight\"] = {}\n",
    "original_weights = sim.calculate(\"household_weight\")\n",
    "original_weights = original_weights.values + np.random.normal(\n",
    "    1, 0.1, len(original_weights)\n",
    ")\n",
    "for year in range(2024, 2025):\n",
    "    loss_matrix, targets_array = build_loss_matrix(\n",
    "        input_dataset, year\n",
    "    )\n",
    "    optimised_weights = reweight(\n",
    "        original_weights,\n",
    "        loss_matrix,\n",
    "        targets_array,\n",
    "        log_path= STORAGE_FOLDER / approach / \"calibration_log.csv\",\n",
    "        penalty_approach=approach,\n",
    "    )\n",
    "    data[\"household_weight\"][year] = optimised_weights\n",
    "\n",
    "output_path = STORAGE_FOLDER / approach / \"enhanced_cps_2024_minimised.h5\"\n",
    "\n",
    "data.save_dataset(output_path)"
   ]
  }
 ],
 "metadata": {
  "kernelspec": {
   "display_name": "pe",
   "language": "python",
   "name": "python3"
  },
  "language_info": {
   "codemirror_mode": {
    "name": "ipython",
    "version": 3
   },
   "file_extension": ".py",
   "mimetype": "text/x-python",
   "name": "python",
   "nbconvert_exporter": "python",
   "pygments_lexer": "ipython3",
   "version": "3.11.11"
  }
 },
 "nbformat": 4,
 "nbformat_minor": 5
}
