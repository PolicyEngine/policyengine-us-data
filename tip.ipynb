{
 "cells": [
  {
   "cell_type": "code",
   "execution_count": 155,
   "id": "87e68954",
   "metadata": {},
   "outputs": [],
   "source": [
    "import pandas as pd\n",
    "from microdf import MicroDataFrame\n",
    "\n",
    "cols = ['SSUID','PNUM','MONTHCODE','ERESIDENCEID','ERELRPE','SPANEL','SWAVE',\n",
    "      \n",
    "      'WPFINWGT',\n",
    "      \n",
    "      'ESEX','TAGE','TAGE_EHC','ERACE','EORIGIN','EEDUC', 'EDEPCLM', 'EMS', 'EFSTATUS',\n",
    "      \n",
    "      'TJB1_TXAMT', 'TJB1_MSUM', 'TJB1_OCC', 'TJB1_IND', 'AJB1_TXAMT', 'EJB1_TYPPAY3',\n",
    "      'TJB2_TXAMT', 'TJB2_MSUM', 'TJB2_OCC', 'TJB2_IND', 'AJB2_TXAMT', 'EJB2_TYPPAY3',\n",
    "      'TJB3_TXAMT', 'TJB3_MSUM', 'TJB3_OCC', 'TJB3_IND', 'AJB3_TXAMT', 'EJB3_TYPPAY3',\n",
    "      'TJB4_TXAMT', 'TJB4_MSUM', 'TJB4_OCC', 'TJB4_IND', 'AJB4_TXAMT', 'EJB4_TYPPAY3',\n",
    "      \n",
    "      'TPTOTINC']\n",
    "\n",
    "for col in cols:\n",
    "    if \"JB1\" in col:\n",
    "        for i in range(2, 8):\n",
    "            cols.append(col.replace(\"JB1\", f\"JB{i}\"))\n",
    "\n",
    "df = pd.read_csv(\"~/Downloads/pu2022.csv\", delimiter=\"|\", usecols=cols)\n",
    "\n",
    "df[\"tip_income\"] = df[df.columns[df.columns.str.contains(\"TXAMT\")]].fillna(0).sum(axis=1) * 12\n",
    "df[\"employment_income\"] = df.TPTOTINC * 12\n",
    "df[\"is_under_18\"] = (df.TAGE < 18) & (df.MONTHCODE == 12)\n",
    "df[\"is_under_6\"] = (df.TAGE < 6) & (df.MONTHCODE == 12)\n",
    "df[\"count_under_18\"] = df.groupby(\"SSUID\")[\"is_under_18\"].sum().loc[df.SSUID.values].values\n",
    "df[\"count_under_6\"] = df.groupby(\"SSUID\")[\"is_under_6\"].sum().loc[df.SSUID.values].values\n",
    "df[\"household_weight\"] = df.WPFINWGT / 12\n",
    "df[\"household_id\"] = df.SSUID\n",
    "df[\"age\"] = df.TAGE\n",
    "\n",
    "sipp = df[[\"household_id\", \"employment_income\", \"tip_income\", \"count_under_18\", \"count_under_6\", \"age\", \"household_weight\"]]\n",
    "\n",
    "import numpy as np\n",
    "\n",
    "sipp = sipp[~sipp.isna().any(axis=1)]\n",
    "\n",
    "sipp = sipp.loc[np.random.choice(sipp.index, size=100_000, replace=True, p=sipp.household_weight/sipp.household_weight.sum())]\n",
    "\n",
    "from policyengine_us import Microsimulation\n",
    "\n",
    "sim = Microsimulation(dataset=\"hf://policyengine/policyengine-us-data/enhanced_cps_2024.h5\")\n",
    "\n",
    "cps = sim.calculate_dataframe([\n",
    "    \"person_id\",\n",
    "    \"household_id\",\n",
    "    \"employment_income\",\n",
    "    \"age\",\n",
    "    \"household_weight\",\n",
    "], 2025)\n",
    "\n",
    "cps[\"is_under_18\"] = cps.age < 18\n",
    "cps[\"is_under_6\"] = cps.age < 6\n",
    "cps[\"count_under_18\"] = cps.groupby(\"household_id\")[\"is_under_18\"].sum().loc[cps.household_id.values].values\n",
    "cps[\"count_under_6\"] = cps.groupby(\"household_id\")[\"is_under_6\"].sum().loc[cps.household_id.values].values\n",
    "cps = pd.DataFrame(cps)"
   ]
  },
  {
   "cell_type": "code",
   "execution_count": 156,
   "id": "0ff6f35d",
   "metadata": {},
   "outputs": [],
   "source": [
    "from microimpute.comparisons.autoimpute import autoimpute\n",
    "from microimpute.models import QRF\n",
    "\n",
    "model = QRF()\n",
    "\n",
    "model = model.fit(X_train=sipp, predictors=[\"employment_income\", \"age\", \"count_under_18\", \"count_under_6\"], imputed_variables=[\"tip_income\"])"
   ]
  },
  {
   "cell_type": "code",
   "execution_count": 163,
   "id": "96a647e4",
   "metadata": {},
   "outputs": [],
   "source": [
    "quantiles = np.linspace(0.1, 0.9, 9)\n",
    "\n",
    "quantile = np.random.choice(quantiles, size=len(cps), replace=True)\n",
    "\n",
    "results = model.predict(X_test=cps, quantiles=quantiles)\n",
    "\n",
    "values = np.empty(len(cps), dtype=float)\n",
    "\n",
    "for i, q in enumerate(quantiles):\n",
    "    values[quantile == q] = results[q].tip_income.values[quantile == q]"
   ]
  },
  {
   "cell_type": "code",
   "execution_count": 166,
   "id": "43c3cb4d",
   "metadata": {},
   "outputs": [],
   "source": [
    "from policyengine_core.reforms import Reform\n",
    "from policyengine_us.model_api import *\n",
    "\n",
    "class tip_income(Variable):\n",
    "    entity = Person\n",
    "    label = \"tip income\"\n",
    "    value_type = float\n",
    "    definition_period = YEAR\n",
    "\n",
    "class taxable_income(Variable):\n",
    "    value_type = float\n",
    "    entity = TaxUnit\n",
    "    label = \"IRS taxable income\"\n",
    "    unit = USD\n",
    "    definition_period = YEAR\n",
    "\n",
    "    def formula(tax_unit, period, parameters):\n",
    "        agi = tax_unit(\"adjusted_gross_income\", period)\n",
    "        exemptions = tax_unit(\"exemptions\", period)\n",
    "        deductions = tax_unit(\"taxable_income_deductions\", period) + add(tax_unit, period, [\"tip_income\"])\n",
    "        return max_(0, agi - exemptions - deductions)\n",
    "\n",
    "\n",
    "class no_tax_on_tips(Reform):\n",
    "    def apply(self):\n",
    "        self.update_variable(tip_income)\n",
    "        self.update_variable(taxable_income)\n",
    "\n",
    "baseline = Microsimulation(dataset=\"hf://policyengine/policyengine-us-data/enhanced_cps_2024.h5\")\n",
    "reformed = Microsimulation(dataset=\"hf://policyengine/policyengine-us-data/enhanced_cps_2024.h5\", reform=no_tax_on_tips)\n",
    "reformed.set_input(\"tip_income\", 2025, values)"
   ]
  },
  {
   "cell_type": "code",
   "execution_count": 167,
   "id": "0793f413",
   "metadata": {},
   "outputs": [
    {
     "data": {
      "text/plain": [
       "-11.500174170757418"
      ]
     },
     "execution_count": 167,
     "metadata": {},
     "output_type": "execute_result"
    }
   ],
   "source": [
    "reformed.calculate(\"income_tax\", 2025).sum()/1e9 - baseline.calculate(\"income_tax\", 2025).sum()/1e9"
   ]
  },
  {
   "cell_type": "code",
   "execution_count": 168,
   "id": "a232875e",
   "metadata": {},
   "outputs": [
    {
     "data": {
      "text/plain": [
       "94.61886627605287"
      ]
     },
     "execution_count": 168,
     "metadata": {},
     "output_type": "execute_result"
    }
   ],
   "source": [
    "reformed.calculate(\"tip_income\", 2025).sum()/1e9"
   ]
  },
  {
   "cell_type": "code",
   "execution_count": 54,
   "id": "41bbaf5f",
   "metadata": {},
   "outputs": [
    {
     "name": "stdout",
     "output_type": "stream",
     "text": [
      "Using Hugging Face for download.\n"
     ]
    }
   ],
   "source": [
    "from policyengine import Simulation\n",
    "\n",
    "sim = Simulation(\n",
    "    country=\"us\",\n",
    "    scope=\"macro\",\n",
    "    reform=no_tax_on_tips,\n",
    "    time_period=2025,\n",
    "    data=\"hf://policyengine/policyengine-us-data/enhanced_cps_2024.h5\",\n",
    ")\n",
    "sim.reform_simulation.set_input(\"tip_income\", 2025, results.tip_income)"
   ]
  },
  {
   "cell_type": "code",
   "execution_count": 55,
   "id": "40d5657f",
   "metadata": {},
   "outputs": [],
   "source": [
    "result = sim.calculate_economy_comparison()"
   ]
  },
  {
   "cell_type": "code",
   "execution_count": 60,
   "id": "e0e74e14",
   "metadata": {},
   "outputs": [
    {
     "data": {
      "text/plain": [
       "-15.512736900124512"
      ]
     },
     "execution_count": 60,
     "metadata": {},
     "output_type": "execute_result"
    }
   ],
   "source": [
    "result.budget.budgetary_impact/1e9"
   ]
  },
  {
   "cell_type": "code",
   "execution_count": 57,
   "id": "3207f1f8",
   "metadata": {},
   "outputs": [
    {
     "data": {
      "text/plain": [
       "78.70567237215111"
      ]
     },
     "execution_count": 57,
     "metadata": {},
     "output_type": "execute_result"
    }
   ],
   "source": [
    "reformed.calculate(\"tip_income\", 2025).sum()/1e9"
   ]
  }
 ],
 "metadata": {
  "kernelspec": {
   "display_name": ".venv",
   "language": "python",
   "name": "python3"
  },
  "language_info": {
   "codemirror_mode": {
    "name": "ipython",
    "version": 3
   },
   "file_extension": ".py",
   "mimetype": "text/x-python",
   "name": "python",
   "nbconvert_exporter": "python",
   "pygments_lexer": "ipython3",
   "version": "3.11.11"
  }
 },
 "nbformat": 4,
 "nbformat_minor": 5
}
